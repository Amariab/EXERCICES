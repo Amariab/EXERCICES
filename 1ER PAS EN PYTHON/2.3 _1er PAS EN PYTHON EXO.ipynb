{
 "cells": [
  {
   "cell_type": "markdown",
   "metadata": {},
   "source": [
    "# 2.3_PREMIER PAS EN PYTHON"
   ]
  },
  {
   "cell_type": "code",
   "execution_count": null,
   "metadata": {},
   "outputs": [],
   "source": [
    "# #TROUVER LA SOLUTION POUR 3x²-7x=23\n",
    "\n",
    "import math\n",
    "from math import sqrt\n",
    "\n",
    "# Considérons l'équation du second degré : ax² + bx + c = 0\n",
    " \n",
    "a = int(input(\"Merci d'entrer un chiffre pour a : \"))\n",
    "b = int(input(\"Merci d'entrer un chiffre pour b : \"))\n",
    "c = int(input(\"Merci d'entrer un chiffre pour c : \"))\n",
    "\n",
    "print (a, b, c)\n"
   ]
  },
  {
   "cell_type": "code",
   "execution_count": 18,
   "metadata": {},
   "outputs": [
    {
     "name": "stdout",
     "output_type": "stream",
     "text": [
      "delta est égal à :  325.0\n",
      "L'équation a deux solutions 34.04 et -20.04 .\n"
     ]
    }
   ],
   "source": [
    "# Deuxième étape : le signe du discriminant : Delta = b² - 4ac\n",
    "\n",
    "# ==> si Δ = 0 , alors l'équation a une unique solution dite racine double : \n",
    "# ==> si Δ > 0 alors l'équation a deux solutions\n",
    "# ==> si Δ < 0 alors l'équation n'a pas de solutions dans R\n",
    "\n",
    "delta = float((b*b) - (4*a*c))\n",
    "print(\"delta est égal à : \", delta)\n",
    "\n",
    "if delta < 0 :\n",
    "    print(\"L'équation n'a pas de solution.\")\n",
    "elif delta == 0 :\n",
    "    x = round(-b/(2*a), 2)\n",
    "else :\n",
    "    x1 = round((- b + (sqrt(delta))/2*a ), 2)  \n",
    "    x2 = round((- b - (sqrt(delta))/2*a ), 2)\n",
    "    print(\"L'équation a deux solutions\", x1, \"et\", x2, \".\")"
   ]
  },
  {
   "cell_type": "markdown",
   "metadata": {},
   "source": [
    "# ---------------------------------------------------------------------------------------------------------"
   ]
  },
  {
   "cell_type": "code",
   "execution_count": 26,
   "metadata": {},
   "outputs": [
    {
     "name": "stdout",
     "output_type": "stream",
     "text": [
      "7997440 16786472\n",
      "8\n"
     ]
    }
   ],
   "source": [
    "# 2. TROUVER LA FORME IRREDUCTIBLE DE LA SOMME : 217/440 + 101/256 + 86/71\n",
    "# Théorème d'euclide\n",
    "\n",
    "import math\n",
    "\n",
    "a=440*256*71\n",
    "b=(217*256*71)+(101*440*71)+(86*440*256)\n",
    "print(a, b)\n",
    "\n",
    "pgcd = math.gcd(7997440,16786472)\n",
    "\n",
    "print(pgcd)"
   ]
  },
  {
   "cell_type": "markdown",
   "metadata": {},
   "source": [
    "# --------------------------------------------------------------------------------------------------------"
   ]
  },
  {
   "cell_type": "code",
   "execution_count": 37,
   "metadata": {},
   "outputs": [
    {
     "name": "stdout",
     "output_type": "stream",
     "text": [
      "CALCUL DU VOLUME D'UN CONE DROIT\n",
      "calcul = π × R2 × h ÷ 3\n",
      "3.141592653589793\n",
      "Veuillez indiquer le rayon :5\n",
      "Veuillez indiquer la hauteur:7\n",
      "47.12\n"
     ]
    }
   ],
   "source": [
    "\"\"\" 3 ) La saisie d'un rayon et d'une hauteur, calculer le volume d'un cône droit. \n",
    "(Utiliser l’instruction input pour saisir les valeurs et print pour afficher le resultat).\n",
    "Le volume d'un cône de révolution est égal à un tiers de l’aire de sa base multipliée par la hauteur du cône h.\n",
    "Si la base d'un cône est un disque de rayon R son aire est égale à : π × R2, \n",
    "alors la formule du volume du cône est égal à : π × R2 × h ÷ 3\"\"\"\n",
    "\n",
    "print(\"CALCUL DU VOLUME D'UN CONE DROIT\")\n",
    "print(\"calcul = π × R2 × h ÷ 3\")\n",
    "\n",
    "import math\n",
    "from math import pi\n",
    "print(pi)\n",
    "\n",
    "R = float (input(\"Veuillez indiquer le rayon :\"))\n",
    "\n",
    "h = float (input(\"Veuillez indiquer la hauteur:\"))\n",
    "\n",
    "v = ((math.pi * (R**2) * h) / 3)\n",
    "\n",
    "\n",
    "print(round(volume, 2))"
   ]
  },
  {
   "cell_type": "code",
   "execution_count": 38,
   "metadata": {},
   "outputs": [],
   "source": [
    "# -----------------------------------------b----------------------------------------------------------"
   ]
  },
  {
   "cell_type": "code",
   "execution_count": 45,
   "metadata": {},
   "outputs": [
    {
     "name": "stdout",
     "output_type": "stream",
     "text": [
      "Savoir si un nb est pair ou impair :\n",
      "Veuillez indiquer un nombre :34\n",
      "le nombre  34 est pair.\n"
     ]
    }
   ],
   "source": [
    "### Ecrire un programme qui à partir d’une saisie d’un nombre vous dit s’il est paire ou impaire.\n",
    "\n",
    "print(\"Savoir si un nb est pair ou impair :\")\n",
    "nb = int(input(\"Veuillez indiquer un nombre :\" ))\n",
    "\n",
    "r = nb % 2\n",
    "\n",
    "if (r == 0) :\n",
    "    print(\"le nombre \", nb, \"est pair.\")\n",
    "else :\n",
    "    print(\"le nombre \", nb, \"est impair.\")"
   ]
  },
  {
   "cell_type": "code",
   "execution_count": null,
   "metadata": {},
   "outputs": [],
   "source": [
    "# -----------------------------------------------------------------------------------------------------"
   ]
  },
  {
   "cell_type": "code",
   "execution_count": 47,
   "metadata": {},
   "outputs": [
    {
     "name": "stdout",
     "output_type": "stream",
     "text": [
      "hypothénuse ? 3\n",
      "adjacent ? 6\n",
      "Droit ? 8\n",
      "Le triangle n'est pas un triangle rectangle.\n",
      "False\n"
     ]
    }
   ],
   "source": [
    "# ÉCRIRE UN PROGRAMME QUI VÉRIFIE SI UN TRIANGLE EST RECTANGLE.\n",
    "\n",
    "\"\"\"Théorème de Pythagore :\n",
    "On nomme a, b et c les longueurs des trois côtés d'un triangle.\n",
    "Les triangles pour lesquels on a la relation a²+ b² = c² sont tous les triangles rectangles \n",
    "dont l'hypoténuse est le côté de longueur c, et seulement eux.\"\"\"\n",
    "\n",
    "from math import *\n",
    "H=(float(input(\"hypothénuse ? \")))\n",
    "A=(float(input(\"adjacent ? \")))\n",
    "D=(float(input(\"Droit ? \")))\n",
    "\n",
    "#Vérification si triangle est un triangle rectangle\n",
    "\n",
    "if H**2==A**2+D**2:\n",
    "    print(\"Le triangle est un triangle rectangle\")\n",
    "else :\n",
    "    print(\"Le triangle n'est pas un triangle rectangle.\")\n",
    "    \n",
    "print(H**2==A**2+D**2)\n",
    "    "
   ]
  },
  {
   "cell_type": "code",
   "execution_count": 48,
   "metadata": {},
   "outputs": [],
   "source": [
    "# -------------------------------------------------------------------------------------------------------"
   ]
  },
  {
   "cell_type": "code",
   "execution_count": 61,
   "metadata": {},
   "outputs": [
    {
     "name": "stdout",
     "output_type": "stream",
     "text": [
      "Veuillez indiquer le prix hors taxe : 12\n",
      "Le prix TTC est de :  14.4\n",
      "Veuillez indiquer le prix hors taxe : 0\n",
      "Le prix TTC est de :  0.0\n",
      "fin des calculs\n"
     ]
    }
   ],
   "source": [
    "# Créer un programme qui donne le prix TTC après avoir saisie le prix HT. \n",
    "\"\"\"Ce programme doit se répéter pour pouvoir entrer plusieurs prix à la suite et ne s’arrêter \n",
    "que si l’utilisateur rentre 0.\"\"\"\n",
    "\n",
    "pht = 1\n",
    "while pht != 0:    \n",
    "    pht = float(input(\"Veuillez indiquer le prix hors taxe : \"))\n",
    "    pttc = round(pht * 1.20, 2)\n",
    "    print(\"Le prix TTC est de : \", pttc)\n",
    "\n",
    "print(\"fin des calculs\")    \n"
   ]
  },
  {
   "cell_type": "code",
   "execution_count": null,
   "metadata": {},
   "outputs": [],
   "source": [
    " # -----------------------------------------------------------------------------------------------------"
   ]
  },
  {
   "cell_type": "code",
   "execution_count": 64,
   "metadata": {},
   "outputs": [
    {
     "name": "stdout",
     "output_type": "stream",
     "text": [
      "C'est un palindrome\n"
     ]
    }
   ],
   "source": [
    "# ECRIRE UN PROGRAMME QUI VÉRIFIE SI LA LISTE [1, 2, 3, 4, 3, 2, 1] EST UN PALINDROME.\n",
    "\n",
    "liste1 = [1, 2, 3, 4, 3, 2, 1]\n",
    "liste2 = liste1[::-1] # du début jusqu'à la fin en partant de la fin\n",
    "\n",
    "if liste1 == liste2 :\n",
    "    print(\"C'est un palindrome.\")\n",
    "else:\n",
    "    print(\"Ce n'est pas un palindrome.\")\n"
   ]
  },
  {
   "cell_type": "code",
   "execution_count": null,
   "metadata": {},
   "outputs": [],
   "source": []
  },
  {
   "cell_type": "code",
   "execution_count": null,
   "metadata": {},
   "outputs": [],
   "source": []
  }
 ],
 "metadata": {
  "kernelspec": {
   "display_name": "Python 3",
   "language": "python",
   "name": "python3"
  },
  "language_info": {
   "codemirror_mode": {
    "name": "ipython",
    "version": 3
   },
   "file_extension": ".py",
   "mimetype": "text/x-python",
   "name": "python",
   "nbconvert_exporter": "python",
   "pygments_lexer": "ipython3",
   "version": "3.7.4"
  }
 },
 "nbformat": 4,
 "nbformat_minor": 2
}
